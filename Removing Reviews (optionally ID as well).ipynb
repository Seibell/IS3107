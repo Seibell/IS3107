{
 "cells": [
  {
   "cell_type": "code",
   "execution_count": 1,
   "id": "7751788b",
   "metadata": {},
   "outputs": [],
   "source": [
    "import json\n",
    "import dateutil\n",
    "from pymongo import MongoClient\n",
    "from bson import json_util"
   ]
  },
  {
   "cell_type": "code",
   "execution_count": 2,
   "id": "bca933e9",
   "metadata": {},
   "outputs": [],
   "source": [
    "client = MongoClient('localhost', 27017)\n",
    "# match the collection and DB name\n",
    "mydb = client[\"amazonPhones\"]\n",
    "npsentimentCollection = mydb[\"outputWithNPCountAndSentiment\"]\n",
    "\n",
    "removeReviewsQ = {\"$unset\": \"reviewList\"}\n",
    "removeIdQ = {\"$unset\": \"_id\"}\n",
    "\n",
    "aggPipe = [removeReviewsQ]\n",
    "\n",
    "commandCursor = npsentimentCollection.aggregate(aggPipe)"
   ]
  },
  {
   "cell_type": "code",
   "execution_count": 3,
   "id": "8a9bdfc8",
   "metadata": {},
   "outputs": [],
   "source": [
    "documents = []\n",
    "for document in commandCursor:\n",
    "    documents.append(document)\n",
    "    \n",
    "documentsJsonString = json.dumps(documents, default=json_util.default)\n",
    "# # write list of dicts to file\n",
    "with open('outputWithoutReviews.json', 'w') as outfile:\n",
    "    outfile.write(documentsJsonString)"
   ]
  },
  {
   "cell_type": "code",
   "execution_count": 4,
   "id": "8cfbd309",
   "metadata": {},
   "outputs": [],
   "source": [
    "aggPipe2 = [removeReviewsQ, removeIdQ]\n",
    "\n",
    "commandCursor2 = npsentimentCollection.aggregate(aggPipe2)\n",
    "\n",
    "documents2 = []\n",
    "for document in commandCursor2:\n",
    "    documents2.append(document)\n",
    "    \n",
    "documentsJsonString2 = json.dumps(documents, default=json_util.default)\n",
    "with open('outputWithoutReviewsAndId.json', 'w') as outfile:\n",
    "    outfile.write(documentsJsonString2)\n",
    "    \n"
   ]
  }
 ],
 "metadata": {
  "kernelspec": {
   "display_name": "Python 3 (ipykernel)",
   "language": "python",
   "name": "python3"
  },
  "language_info": {
   "codemirror_mode": {
    "name": "ipython",
    "version": 3
   },
   "file_extension": ".py",
   "mimetype": "text/x-python",
   "name": "python",
   "nbconvert_exporter": "python",
   "pygments_lexer": "ipython3",
   "version": "3.9.13"
  }
 },
 "nbformat": 4,
 "nbformat_minor": 5
}
