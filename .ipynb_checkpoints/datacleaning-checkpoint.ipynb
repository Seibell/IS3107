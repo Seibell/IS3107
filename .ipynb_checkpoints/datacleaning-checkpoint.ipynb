{
 "cells": [
  {
   "cell_type": "markdown",
   "id": "f6b729ae",
   "metadata": {},
   "source": [
    "## Setup"
   ]
  },
  {
   "cell_type": "code",
   "execution_count": 22,
   "id": "f187fa3e",
   "metadata": {},
   "outputs": [],
   "source": [
    "import json\n",
    "import dateutil\n",
    "from pymongo import MongoClient\n",
    "import re\n",
    "from bson import json_util"
   ]
  },
  {
   "cell_type": "code",
   "execution_count": 24,
   "id": "ce8e36c5",
   "metadata": {},
   "outputs": [],
   "source": [
    "client = MongoClient('localhost', 27017)"
   ]
  },
  {
   "cell_type": "markdown",
   "id": "953ac630",
   "metadata": {},
   "source": [
    "if you have alrd loaded ur dataset, then can just rename the params in\n",
    "\n",
    "client[] and mydb[] so that it matches urs\n",
    "\n",
    "then no need to load the data again"
   ]
  },
  {
   "cell_type": "code",
   "execution_count": 25,
   "id": "70c481d7",
   "metadata": {},
   "outputs": [],
   "source": [
    "mydb = client[\"amazonPhones\"]\n",
    "my_collection = mydb[\"phonesNaccessories\"]"
   ]
  },
  {
   "cell_type": "code",
   "execution_count": 1,
   "id": "b8bd8991",
   "metadata": {},
   "outputs": [],
   "source": [
    "### if you want to clear collection in DB use and uncomment this\n",
    "# my_collection.delete_many({})\n",
    "\n",
    "\n",
    "#### --- LOADING DATA INTO DB ---\n",
    "#### Uncomment this if u want to load data into db\n",
    "\n",
    "## the file is written to the String contents\n",
    "#jsonDataSetString = open(\"Cell_Phones_and_Accessories.json\", \"r\").read()\n",
    "\n",
    "## load String into a dict, parse by each line\n",
    "#jsonDataSetDict = [json.loads(str(item)) for item in jsonDataSetString.strip().split('\\\n",
    "#my_collection.insert_many(jsonDataSetDict)\n",
    "\n",
    "\n",
    "#### ---"
   ]
  },
  {
   "cell_type": "code",
   "execution_count": 9,
   "id": "c2490136",
   "metadata": {},
   "outputs": [
    {
     "name": "stdout",
     "output_type": "stream",
     "text": [
      "<class 'dict'>\n",
      "{'_id': ObjectId('641560918ca47c921e9ea72f'), 'category': ['Cell Phones & Accessories', 'Accessories', 'Screen Protectors'], 'tech1': '', 'description': [], 'fit': '', 'title': 'Trollies Sing a Long Party VHS', 'also_buy': [], 'tech2': '', 'brand': '', 'feature': [], 'rank': '557,379 in Movies & TV (', 'also_view': [], 'details': {'ASIN: ': '6303195164'}, 'main_cat': 'Movies & TV', 'similar_item': '', 'date': '', 'price': '', 'asin': '6303195164', 'imageURL': [], 'imageURLHighRes': []}\n"
     ]
    },
    {
     "data": {
      "text/plain": [
       "bson.objectid.ObjectId"
      ]
     },
     "execution_count": 9,
     "metadata": {},
     "output_type": "execute_result"
    }
   ],
   "source": [
    "# test to see if some data is inserted\n",
    "exampleTest = my_collection.find_one()\n",
    "print(type(exampleTest))\n",
    "print(exampleTest)\n",
    "type(exampleTest['_id'])"
   ]
  },
  {
   "cell_type": "code",
   "execution_count": 11,
   "id": "b941aa16",
   "metadata": {},
   "outputs": [],
   "source": [
    "# Aggregate Queries\n",
    "## Remove all irrelevant fields\n",
    "q0 = {\"$unset\" : [\"fit\",\"tech1\",\"tech2\",\"imageURL\",\"imageURLHighRes\"]}\n",
    "\n",
    "## Match all documents that have \"Cell Phones\" string in category field\n",
    "q1 = {\"$match\" :{ \"category\": { \"$in\": [\"Cell Phones\"] } } }\n",
    "\n",
    "## Match all documents that have some sort of ranking in the general Cell Phones & Accessories\n",
    "regexQ2 = re.compile(\"^>#.* in Cell Phones & Accessories \\(See Top 100 in Cell Phones & Accessories\\)\")\n",
    "q2 = {\"$match\": { \"rank\": { \"$elemMatch\": {\"$regex\": regexQ2 } } } }\n",
    "\n",
    "## Add a new field ranking the documents based on the \"rank\" string. Removes all hashtags and commas.\n",
    "regexQ3 = re.compile(\"[#,]\")\n",
    "q3 = {\"$addFields\": {\"overallRankRemovedHash\": {\"$replaceAll\": {\"input\": {\"$arrayElemAt\": [\"$rank\", 0]} , \"find\": \"#\", \"replacement\": \"\"}}}}\n",
    "\n",
    "q3p1 = {\"$addFields\": {\"overallRankRemovedRightArrow\": {\"$replaceAll\": {\"input\": \"$overallRankRemovedHash\", \"find\": \">\", \"replacement\" : \"\"}}}}\n",
    "q3p2 = {\"$addFields\": {\"overallRankRemovedComma\": {\"$replaceAll\": {\"input\": \"$overallRankRemovedRightArrow\", \"find\": \",\", \"replacement\": \"\"}}}}\n",
    "\n",
    "## Now split by whitespace and only select first element (which is the number rank)\n",
    "q4 = {\"$addFields\": {\"overallRankNumber\": {\"$toInt\": {\"$arrayElemAt\": [{\"$split\": [\"$overallRankRemovedComma\", \" \"]}, 0] } } } }\n",
    "\n",
    "## remove the intermediate \"rankRemovedHashComma\" (and also _id actually)\n",
    "q5 = {\"$unset\" : [\"overallRankRemovedHash\", \"overallRankRemovedRightArrow\", \"overallRankRemovedComma\",\"_id\"]}\n",
    "\n",
    "## sort by rank ascending\n",
    "sortQ = {\"$sort\" : {\"overallRankNumber\" : 1}}\n",
    "\n",
    "# pipeline\n",
    "aggPipe = [q0, q1, q2, q3, q3p1, q3p2, q4, q5, sortQ]\n",
    "\n",
    "# processing thru pipeline\n",
    "commandCursor = my_collection.aggregate(aggPipe)"
   ]
  },
  {
   "cell_type": "markdown",
   "id": "ab918ef4",
   "metadata": {},
   "source": [
    "## Loading cleaned data into documents"
   ]
  },
  {
   "cell_type": "code",
   "execution_count": 12,
   "id": "c7a0a566",
   "metadata": {},
   "outputs": [],
   "source": [
    "documents = []\n",
    "for document in commandCursor:\n",
    "    documents.append(document)"
   ]
  },
  {
   "cell_type": "markdown",
   "id": "8f2387f8",
   "metadata": {},
   "source": [
    "## Exporting data into output file"
   ]
  },
  {
   "cell_type": "code",
   "execution_count": 13,
   "id": "549b3514",
   "metadata": {},
   "outputs": [],
   "source": [
    "with open('output.json', 'w') as outfile:\n",
    "    json.dump(documents, outfile)"
   ]
  },
  {
   "cell_type": "markdown",
   "id": "8c6d0be0",
   "metadata": {},
   "source": [
    "## Loading Reviews into DB (if applicable)"
   ]
  },
  {
   "cell_type": "code",
   "execution_count": null,
   "id": "ed9cfcf3",
   "metadata": {},
   "outputs": [],
   "source": [
    "### if you want to clear collection in DB use and uncomment this\n",
    "# my_collection.delete_many({})\n",
    "\n",
    "\n",
    "#### --- LOADING DATA INTO DB ---\n",
    "#### Uncomment this if u want to load data into db\n",
    "\n",
    "## the file is written to the String contents\n",
    "#jsonDataSetString = open(\"Cell_Phones_and_Accessories_Reviews.json\", \"r\").read()\n",
    "\n",
    "## load String into a dict, parse by each line\n",
    "#jsonDataSetDict = [json.loads(str(item)) for item in jsonDataSetString.strip().split('\\\n",
    "#my_collection.insert_many(jsonDataSetDict)\n",
    "\n",
    "\n",
    "#### ---"
   ]
  },
  {
   "cell_type": "markdown",
   "id": "3476fa77",
   "metadata": {},
   "source": [
    "## Joining tables"
   ]
  },
  {
   "cell_type": "code",
   "execution_count": 27,
   "id": "f25db02a",
   "metadata": {},
   "outputs": [
    {
     "name": "stdout",
     "output_type": "stream",
     "text": [
      "{'_id': ObjectId('641560918ca47c921e9ea72f'), 'category': ['Cell Phones & Accessories', 'Accessories', 'Screen Protectors'], 'tech1': '', 'description': [], 'fit': '', 'title': 'Trollies Sing a Long Party VHS', 'also_buy': [], 'tech2': '', 'brand': '', 'feature': [], 'rank': '557,379 in Movies & TV (', 'also_view': [], 'details': {'ASIN: ': '6303195164'}, 'main_cat': 'Movies & TV', 'similar_item': '', 'date': '', 'price': '', 'asin': '6303195164', 'imageURL': [], 'imageURLHighRes': [], 'result': [{'_id': ObjectId('64156db48ca47c921e1fbebb'), 'overall': 5, 'verified': True, 'reviewTime': '04 7, 2016', 'reviewerID': 'APURXPG5LSBTR', 'asin': '6303195164', 'reviewerName': 'michelle smith', 'reviewText': \"I bought this vhs tape for my sister that is handicap. She loves these kind of shows that has music. She sets there nods her head to the music and laughs. She already had a trollies movie and it was different one so I decided to buy her this one also. She absolutely loved this one and stayed interested through the whole thing..She can't walk or talk so I'm glad that we can find stuff like this that she likes. This was a great purchase!\", 'summary': 'My handicap twin sister is a big fan of the trollies!', 'unixReviewTime': 1459987200}]}\n"
     ]
    }
   ],
   "source": [
    "result = mydb.phonesNaccessories.aggregate([\n",
    "    {\n",
    "        \"$lookup\": {\n",
    "            \"from\": \"phonesNaccessoriesReviews\",\n",
    "            \"localField\": \"asin\",\n",
    "            \"foreignField\": \"asin\",\n",
    "            \"as\": \"result\"\n",
    "        }\n",
    "    },\n",
    "    {\n",
    "        \"$limit\": 1\n",
    "    }\n",
    "])\n",
    "\n",
    "record = result.next()\n",
    "\n",
    "print(record)"
   ]
  },
  {
   "cell_type": "code",
   "execution_count": null,
   "id": "eccbafc3",
   "metadata": {},
   "outputs": [],
   "source": [
    "joinQ = {\"$lookup\": {\"from\": \"phonesNaccessoriesReviews\",\"localField\": \"asin\",\"foreignField\": \"asin\",\"as\": \"result\"}}\n",
    "aggPipeWithJoin = [q0, q1, q2, q3, q3p1, q3p2, q4, q5, sortQ, joinQ]\n",
    "commandCursorJoined = my_collection.aggregate(aggPipeWithJoin)"
   ]
  },
  {
   "cell_type": "markdown",
   "id": "af5ccc77",
   "metadata": {},
   "source": [
    "## Loading cleaned and joined data into documents"
   ]
  },
  {
   "cell_type": "code",
   "execution_count": null,
   "id": "bbec4078",
   "metadata": {},
   "outputs": [],
   "source": [
    "documentsJoined = []\n",
    "for document in commandCursorJoined:\n",
    "    documentsJoined.append(document)"
   ]
  },
  {
   "cell_type": "markdown",
   "id": "e8cdbd38",
   "metadata": {},
   "source": [
    "## Exporting joined data into output file"
   ]
  },
  {
   "cell_type": "code",
   "execution_count": null,
   "id": "e12af42d",
   "metadata": {},
   "outputs": [],
   "source": [
    "with open('outputJoined.json', 'w') as outfile:\n",
    "    json.dump(documentsJoined, outfile)"
   ]
  }
 ],
 "metadata": {
  "kernelspec": {
   "display_name": "Python 3 (ipykernel)",
   "language": "python",
   "name": "python3"
  },
  "language_info": {
   "codemirror_mode": {
    "name": "ipython",
    "version": 3
   },
   "file_extension": ".py",
   "mimetype": "text/x-python",
   "name": "python",
   "nbconvert_exporter": "python",
   "pygments_lexer": "ipython3",
   "version": "3.9.13"
  }
 },
 "nbformat": 4,
 "nbformat_minor": 5
}
